{
 "cells": [
  {
   "cell_type": "markdown",
   "metadata": {},
   "source": [
    "# Imports"
   ]
  },
  {
   "cell_type": "code",
   "execution_count": 59,
   "metadata": {},
   "outputs": [
    {
     "name": "stdout",
     "output_type": "stream",
     "text": [
      "The autoreload extension is already loaded. To reload it, use:\n",
      "  %reload_ext autoreload\n"
     ]
    }
   ],
   "source": [
    "%load_ext autoreload\n",
    "%autoreload 2\n",
    "# In [2]: %autoreload 2\n",
    "import cs7641assn4 as a4\n",
    "import numpy as np\n",
    "import pandas as pd\n",
    "import warnings\n",
    "import random\n",
    "\n",
    "pd.set_option('display.max_columns', 35)\n",
    "# pd.reset_option(\"display.max_columns\")\n"
   ]
  },
  {
   "cell_type": "markdown",
   "metadata": {},
   "source": [
    "# Establish Environment"
   ]
  },
  {
   "cell_type": "code",
   "execution_count": 33,
   "metadata": {},
   "outputs": [
    {
     "name": "stdout",
     "output_type": "stream",
     "text": [
      "--Board--\n",
      "\n",
      "\u001b[41mS\u001b[0mFFFFFFF\n",
      "FFFFFFFF\n",
      "FFFHFFFF\n",
      "FFFFFHFF\n",
      "FFFHFFFF\n",
      "FHHFFFHF\n",
      "FHFFHFHF\n",
      "FFFHFFFG\n",
      "\n",
      "--Actions for Position to the Left of the Goal--\n",
      "{0: [(0.3333333333333333, 54, -1, True),\n",
      "     (0.3333333333333333, 61, -0.2, False),\n",
      "     (0.3333333333333333, 62, -0.2, False)],\n",
      " 1: [(0.3333333333333333, 61, -0.2, False),\n",
      "     (0.3333333333333333, 62, -0.2, False),\n",
      "     (0.3333333333333333, 63, 1, True)],\n",
      " 2: [(0.3333333333333333, 62, -0.2, False),\n",
      "     (0.3333333333333333, 63, 1, True),\n",
      "     (0.3333333333333333, 54, -1, True)],\n",
      " 3: [(0.3333333333333333, 63, 1, True),\n",
      "     (0.3333333333333333, 54, -1, True),\n",
      "     (0.3333333333333333, 61, -0.2, False)]}\n",
      "\n",
      "--Reward Values at Each State--\n",
      "-0.2  -0.2  -0.2  -0.2  -0.2  -0.2  -0.2  -0.2  \n",
      "-0.2  -0.2  -0.2  -0.2  -0.2  -0.2  -0.2  -0.2  \n",
      "-0.2  -0.2  -0.2    -1  -0.2  -0.2  -0.2  -0.2  \n",
      "-0.2  -0.2  -0.2  -0.2  -0.2    -1  -0.2  -0.2  \n",
      "-0.2  -0.2  -0.2    -1  -0.2  -0.2  -0.2  -0.2  \n",
      "-0.2    -1    -1  -0.2  -0.2  -0.2    -1  -0.2  \n",
      "-0.2    -1  -0.2  -0.2    -1  -0.2    -1  -0.2  \n",
      "-0.2  -0.2  -0.2    -1  -0.2  -0.2  -0.2     1  \n"
     ]
    }
   ],
   "source": [
    "rH = -1 #-5 # reward for H(ole)\n",
    "rG = 1 # 10 # reward for G(oal)\n",
    "rF = -0.2# reward includes S(tart) and F(rozen)\n",
    "size = 8 # height and width of square gridworld\n",
    "p = 0.8 # if generating a random map probability that a grid will be F(rozen)\n",
    "desc = None # frozen_lake.generate_random_map(size=size, p=p)\n",
    "map_name = 'x'.join([str(size)]*2) # None\n",
    "is_slippery = True\n",
    "\n",
    "\n",
    "epsilon = 1e-8 # convergence threshold for policy/value iteration\n",
    "gamma = 0.8 # discount parameter for past policy/value iterations\n",
    "max_iter = 10000 # maximum iterations for slowly converging policy/value iteration \n",
    "\n",
    "# Qlearning(env, rH=0, rG=1, rF=0, qepsilon=0.1, lr=0.8, gamma=0.95, episodes=10000)\n",
    "qepsilon = 0.1 # epsilon value for the Q-learning epsilon greedy strategy\n",
    "lr = 0.8 # Q-learning rate\n",
    "qgamma = 0.95 # Q-Learning discount factor\n",
    "episodes = 10000 # number of Q-learning episodes\n",
    "initial = 0 # value to initialize the Q grid\n",
    "\n",
    "# Create Environment\n",
    "env = a4.getEnv(env_id='hw4-FrozenLake-v{}'.format(random.randint(0,100000)), rH=rH, rG=rG, rF=rF, \n",
    "                desc=desc, map_name=map_name)\n",
    "\n",
    "# Store a representation of the map\n",
    "env_desc = env.desc.astype('<U8')\n",
    "\n",
    "# Store a representation of the state rewards\n",
    "env_rs = a4.getStateReward(env)\n",
    "\n",
    "# Display reward at each state\n",
    "print('\\n--Reward Values at Each State--')\n",
    "a4.matprint(a4.print_value(env_rs, width=size, height=size))"
   ]
  },
  {
   "cell_type": "markdown",
   "metadata": {},
   "source": [
    "# Policy Iteration"
   ]
  },
  {
   "cell_type": "code",
   "execution_count": 4,
   "metadata": {},
   "outputs": [
    {
     "name": "stdout",
     "output_type": "stream",
     "text": [
      "3.57 ms ± 92.1 µs per loop (mean ± std. dev. of 7 runs, 100 loops each)\n"
     ]
    }
   ],
   "source": [
    "pi_time = %timeit -o a4.policy_iteration(env, epsilon=epsilon, gamma=gamma, max_iter=max_iter, report=False)\n",
    "\n"
   ]
  },
  {
   "cell_type": "code",
   "execution_count": 60,
   "metadata": {},
   "outputs": [
    {
     "name": "stdout",
     "output_type": "stream",
     "text": [
      "Policy iteration converged after  7 epochs\n",
      "-0.9992  -0.9987  -0.9974   -0.995  -0.9904  -0.9824  -0.9707  -0.9647  \n",
      "-0.9993  -0.9989  -0.9979  -0.9958  -0.9912  -0.9809  -0.9548  -0.9382  \n",
      "-0.9997  -1.0347   -1.141       -5  -1.1636  -1.0177  -0.9217  -0.8751  \n",
      "-0.9999  -1.1315  -1.4961  -2.6269  -1.6048       -5  -0.8763   -0.735  \n",
      "-0.9999  -1.4585  -2.5879       -5  -1.4774  -1.2764  -0.8797   -0.396  \n",
      "     -1       -5       -5  -3.2524  -1.9091  -1.6793       -5    0.396  \n",
      "     -1       -5  -3.2628  -3.5374       -5  -2.3619       -5   2.2349  \n",
      "     -1  -1.3448  -1.9482       -5  -2.6101  -0.4278   1.9353        5  \n",
      "↑  →  →  →  →  →  →  →  \n",
      "↑  ↑  ↑  ↑  ↑  ↑  →  ↓  \n",
      "←  ←  ←  ←  →  ↑  →  ↓  \n",
      "←  ←  ←  ↓  ←  ←  →  →  \n",
      "←  ↑  ←  ←  →  ↓  ↑  →  \n",
      "←  ←  ←  ↓  ↑  ←  ←  →  \n",
      "←  ←  ↓  ↑  ←  ←  ←  →  \n",
      "←  ↓  ←  ←  →  →  ↓  ←  \n",
      "[['↑' '→' '→' '→' '→' '→' '→' '→']\n",
      " ['↑' '↑' '↑' '↑' '↑' '↑' '→' '↓']\n",
      " ['←' '←' '←' '←' '→' '↑' '→' '↓']\n",
      " ['←' '←' '←' '↓' '←' '←' '→' '→']\n",
      " ['←' '↑' '←' '←' '→' '↓' '↑' '→']\n",
      " ['←' '←' '←' '↓' '↑' '←' '←' '→']\n",
      " ['←' '←' '↓' '↑' '←' '←' '←' '→']\n",
      " ['←' '↓' '←' '←' '→' '→' '↓' '←']]\n"
     ]
    },
    {
     "data": {
      "image/png": "[encoded data removed]",
      "text/plain": [
       "<Figure size 432x288 with 2 Axes>"
      ]
     },
     "metadata": {},
     "output_type": "display_data"
    }
   ],
   "source": [
    "pi_V, pi_policy, pi_epochs = a4.policy_iteration(env, epsilon=epsilon, gamma=gamma, max_iter=max_iter, report=True)\n",
    "\n",
    "# Display values\n",
    "a4.matprint(a4.print_value(pi_V, width=size, height=size))\n",
    "\n",
    "pi_policy_arrows = a4.print_policy(pi_policy, width=size, height=size)\n",
    "\n",
    "# Display policy\n",
    "a4.matprint(pi_policy_arrows)\n",
    "draw_heatmap(pi_policy_arrows, pi_V, size)"
   ]
  },
  {
   "cell_type": "markdown",
   "metadata": {},
   "source": [
    "# Value Iteration"
   ]
  },
  {
   "cell_type": "code",
   "execution_count": 6,
   "metadata": {},
   "outputs": [
    {
     "name": "stdout",
     "output_type": "stream",
     "text": [
      "20 ms ± 653 µs per loop (mean ± std. dev. of 7 runs, 10 loops each)\n"
     ]
    }
   ],
   "source": [
    "vi_time = %timeit -o a4.valueIteration(env, epsilon=epsilon, gamma=gamma, max_iter=max_iter, report=False)\n"
   ]
  },
  {
   "cell_type": "code",
   "execution_count": 62,
   "metadata": {
    "scrolled": true
   },
   "outputs": [
    {
     "name": "stdout",
     "output_type": "stream",
     "text": [
      "Value iteration converged after  91 epochs\n",
      "-0.9992  -0.9987  -0.9974   -0.995  -0.9904  -0.9824  -0.9707  -0.9647  \n",
      "-0.9993  -0.9989  -0.9979  -0.9958  -0.9912  -0.9809  -0.9548  -0.9382  \n",
      "-0.9997  -1.0347   -1.141       -5  -1.1636  -1.0177  -0.9217  -0.8751  \n",
      "-0.9999  -1.1315  -1.4961  -2.6269  -1.6048       -5  -0.8763   -0.735  \n",
      "-0.9999  -1.4585  -2.5879       -5  -1.4774  -1.2764  -0.8797   -0.396  \n",
      "     -1       -5       -5  -3.2524  -1.9091  -1.6793       -5    0.396  \n",
      "     -1       -5  -3.2628  -3.5374       -5  -2.3619       -5   2.2349  \n",
      "     -1  -1.3448  -1.9482       -5  -2.6101  -0.4278   1.9353        5  \n",
      "↑  →  →  →  →  →  →  →  \n",
      "↑  ↑  ↑  ↑  ↑  ↑  →  ↓  \n",
      "←  ←  ←  ←  →  ↑  →  ↓  \n",
      "←  ←  ←  ↓  ←  ←  →  →  \n",
      "←  ↑  ←  ←  →  ↓  ↑  →  \n",
      "←  ←  ←  →  ↑  ←  ←  →  \n",
      "←  ←  ↓  ←  ←  ←  ←  →  \n",
      "←  ↓  ←  ←  ↓  →  ↓  ←  \n",
      "[['↑' '→' '→' '→' '→' '→' '→' '→']\n",
      " ['↑' '↑' '↑' '↑' '↑' '↑' '→' '↓']\n",
      " ['←' '←' '←' '←' '→' '↑' '→' '↓']\n",
      " ['←' '←' '←' '↓' '←' '←' '→' '→']\n",
      " ['←' '↑' '←' '←' '→' '↓' '↑' '→']\n",
      " ['←' '←' '←' '→' '↑' '←' '←' '→']\n",
      " ['←' '←' '↓' '←' '←' '←' '←' '→']\n",
      " ['←' '↓' '←' '←' '↓' '→' '↓' '←']]\n"
     ]
    },
    {
     "data": {
      "image/png": "[encoded data removed]",
      "text/plain": [
       "<Figure size 432x288 with 2 Axes>"
      ]
     },
     "metadata": {},
     "output_type": "display_data"
    }
   ],
   "source": [
    "vi_V, vi_epochs = a4.valueIteration(env, epsilon=epsilon, gamma=gamma, max_iter=max_iter, report=True)\n",
    "\n",
    "# display value function:\n",
    "a4.matprint(a4.print_value(vi_V, width=size, height=size))\n",
    "\n",
    "vi_policy = a4.value_to_policy(env, V=vi_V, gamma=gamma)\n",
    "\n",
    "vi_policy_arrows = a4.print_policy(vi_policy, width=size, height=size)\n",
    "# display policy\n",
    "a4.matprint(vi_policy_arrows)\n",
    "draw_heatmap(vi_policy_arrows, vi_V, size)"
   ]
  },
  {
   "cell_type": "markdown",
   "metadata": {},
   "source": [
    "# Q-Learning"
   ]
  },
  {
   "cell_type": "code",
   "execution_count": 8,
   "metadata": {},
   "outputs": [
    {
     "name": "stdout",
     "output_type": "stream",
     "text": [
      "3.54 s ± 100 ms per loop (mean ± std. dev. of 7 runs, 1 loop each)\n"
     ]
    }
   ],
   "source": [
    "Q_time = %timeit -o a4.Qlearning(env, qepsilon, lr, qgamma, episodes)\n"
   ]
  },
  {
   "cell_type": "code",
   "execution_count": 63,
   "metadata": {},
   "outputs": [
    {
     "name": "stdout",
     "output_type": "stream",
     "text": [
      "--Q with all options--\n",
      " -3.02807   -3.03642   -2.55397   -3.05769  \n",
      " -2.98001   -2.75369   -2.96458   -3.04105  \n",
      " -2.92907   -2.96294   -2.39899   -2.97711  \n",
      " -2.76478   -2.95172   -2.84547   -2.75874  \n",
      " -2.80904   -2.87676   -2.82532   -2.79521  \n",
      " -2.46485   -3.02498   -2.99311   -2.87309  \n",
      " -2.48699   -3.03483   -3.03366   -3.01367  \n",
      " -2.86426   -3.04244   -3.10233   -3.07088  \n",
      " -2.88499   -2.58476   -2.89727   -2.75994  \n",
      " -2.89448   -2.39955   -2.89412   -2.89574  \n",
      "  -2.9121   -2.43652    -2.8945   -2.75761  \n",
      " -2.96695   -2.54424    -2.9093   -2.92242  \n",
      "  -2.8652   -2.90574   -2.24369   -2.80829  \n",
      " -2.14404   -2.57888   -2.63876     -2.905  \n",
      " -2.94165   -2.68791   -2.74013   -2.92674  \n",
      " -2.46119   -2.99372   -3.10735   -3.04911  \n",
      " -2.58935   -2.53104    -2.8451    -2.8933  \n",
      "  -2.8252   -2.34478   -2.78601    -2.5775  \n",
      "  -2.6413   -2.01167   -2.77607    -2.8682  \n",
      "       -1         -1         -1         -1  \n",
      " -2.57642   -2.29436    -2.5474   -2.66226  \n",
      " -2.26909   -2.40369   -2.37416   -2.57364  \n",
      " -2.35597   -2.40078   -2.45509   -2.87139  \n",
      " -2.66364   -2.39598   -2.85299   -2.87055  \n",
      " -2.74207   -2.54977   -2.66061   -2.44622  \n",
      " -2.69727   -2.28237   -2.69611    -2.5608  \n",
      " -2.16692   -2.48928   -2.09555   -2.55645  \n",
      " -2.29798   -2.33173   -2.04133   -2.37147  \n",
      " -2.31647   -1.95101   -2.35379   -2.41676  \n",
      "       -1         -1         -1         -1  \n",
      " -2.25975   -2.46737   -2.46939   -2.00763  \n",
      " -2.45008   -2.20097   -2.59252   -2.36502  \n",
      " -2.46353   -2.18406   -2.61065   -2.46557  \n",
      " -2.00929   -2.57426   -2.47396   -2.37916  \n",
      " -2.22318   -2.43983      -1.95   -2.30966  \n",
      "       -1         -1         -1         -1  \n",
      " -2.28266   -2.06443   -2.33827    -2.2833  \n",
      " -2.20297   -2.29517   -2.04316    -2.2314  \n",
      " -2.17771   -2.20586   -2.29841   -2.27233  \n",
      " -2.47201   -2.24995  0.0111175   -2.52175  \n",
      " -2.45612   -2.44747   -2.41376   -2.00027  \n",
      "       -1         -1         -1         -1  \n",
      "       -1         -1         -1         -1  \n",
      " -1.97262   -2.00323   -1.95942   -2.08418  \n",
      " -2.26218   -1.95069   -2.26092   -2.24456  \n",
      " -2.23241   -2.00674   -2.23844   -2.10501  \n",
      "       -1         -1         -1         -1  \n",
      " -1.40579   -1.97905   -2.07111   -2.03484  \n",
      " -2.46626   -2.48127   -2.47613   -2.35713  \n",
      "       -1         -1         -1         -1  \n",
      " -1.94804   -2.06758   -1.99009   -1.94922  \n",
      " -1.91924    -1.9344    -2.0046   -1.93908  \n",
      "       -1         -1         -1         -1  \n",
      " -1.98371   -1.91515   -1.97018   -2.09053  \n",
      "       -1         -1         -1         -1  \n",
      " -1.81468   -1.79462    1.90654   -1.76859  \n",
      " -2.49769   -2.47506    -2.2154    -2.4847  \n",
      " -2.18773   -2.29083   -2.13089   -2.34185  \n",
      " -2.21051   -2.21185   -1.98201   -2.19853  \n",
      "       -1         -1         -1         -1  \n",
      "    -1.56      -1.56  -0.321867          0  \n",
      "-0.987367  -0.828836   -1.12116  -0.735999  \n",
      "    -1.56     1.4198      -1.56     -1.248  \n",
      "        1          1          1          1  \n",
      "\n",
      "--argmax(Q) in grid order--\n",
      " -2.554  -2.7537   -2.399  -2.7587  -2.7952  -2.4648   -2.487  -2.8643  \n",
      "-2.5848  -2.3996  -2.4365  -2.5442  -2.2437   -2.144  -2.6879  -2.4612  \n",
      " -2.531  -2.3448  -2.0117       -1  -2.2944  -2.2691   -2.356   -2.396  \n",
      "-2.4462  -2.2824  -2.0956  -2.0413   -1.951       -1  -2.0076   -2.201  \n",
      "-2.1841  -2.0093    -1.95       -1  -2.0644  -2.0432  -2.1777   0.0111  \n",
      "-2.0003       -1       -1  -1.9594  -1.9507  -2.0067       -1  -1.4058  \n",
      "-2.3571       -1   -1.948  -1.9192       -1  -1.9152       -1   1.9065  \n",
      "-2.2154  -2.1309   -1.982       -1        0   -0.736   1.4198        1  \n",
      "\n",
      "--Policy Matrix--\n",
      "→  ↓  →  ↑  ↑  ←  ←  ←  \n",
      "↓  ↓  ↓  ↓  →  ←  ↓  ←  \n",
      "↓  ↓  ↓  ←  ↓  ←  ←  ↓  \n",
      "↑  ↓  →  →  ↓  ←  ↑  ↓  \n",
      "↓  ←  →  ←  ↓  →  ←  →  \n",
      "↑  ←  ←  →  ↓  ↓  ←  ←  \n",
      "↑  ←  ←  ←  ←  ↓  ←  →  \n",
      "→  →  →  ←  ↑  ↑  ↓  ←  \n",
      "[['→' '↓' '→' '↑' '↑' '←' '←' '←']\n",
      " ['↓' '↓' '↓' '↓' '→' '←' '↓' '←']\n",
      " ['↓' '↓' '↓' '←' '↓' '←' '←' '↓']\n",
      " ['↑' '↓' '→' '→' '↓' '←' '↑' '↓']\n",
      " ['↓' '←' '→' '←' '↓' '→' '←' '→']\n",
      " ['↑' '←' '←' '→' '↓' '↓' '←' '←']\n",
      " ['↑' '←' '←' '←' '←' '↓' '←' '→']\n",
      " ['→' '→' '→' '←' '↑' '↑' '↓' '←']]\n"
     ]
    },
    {
     "data": {
      "image/png": "[encoded data removed]",
      "text/plain": [
       "<Figure size 432x288 with 2 Axes>"
      ]
     },
     "metadata": {},
     "output_type": "display_data"
    }
   ],
   "source": [
    "Q = a4.Qlearning(env, qepsilon, lr, qgamma, episodes)\n",
    "print('--Q with all options--')\n",
    "a4.matprint(Q)\n",
    "\n",
    "maxQ = np.max(Q,axis=1)\n",
    "print('\\n--argmax(Q) in grid order--')\n",
    "a4.matprint(a4.print_value(maxQ, width=size, height=size))\n",
    "\n",
    "Q_policy = a4.Q_to_policy(Q)\n",
    "\n",
    "Q_policy_arrows = a4.print_policy(Q_policy, width=size, height=size)\n",
    "print('\\n--Policy Matrix--')\n",
    "a4.matprint(Q_policy_arrows)\n",
    "draw_heatmap(Q_policy_arrows, maxQ, size)\n"
   ]
  },
  {
   "cell_type": "code",
   "execution_count": 11,
   "metadata": {},
   "outputs": [
    {
     "name": "stdout",
     "output_type": "stream",
     "text": [
      "\n",
      "--Final position--\n",
      "  (Down)\n",
      "SFFFFFFF\n",
      "FFFFFFFF\n",
      "FFF\u001b[41mH\u001b[0mFFFF\n",
      "FFFFFHFF\n",
      "FFFHFFFF\n",
      "FHHFFFHF\n",
      "FHFFHFHF\n",
      "FFFHFFFG\n",
      "Agent ended up at state 19 after 10 steps\n"
     ]
    }
   ],
   "source": [
    "Q_s, Q_steps = a4.Qlearning_trajectory(env, Q, render=False)\n"
   ]
  },
  {
   "cell_type": "markdown",
   "metadata": {},
   "source": [
    "# Notes"
   ]
  },
  {
   "cell_type": "markdown",
   "metadata": {},
   "source": [
    "Default rewards are 1 for the G(oal) and 0 for everything else.\n",
    "\n",
    "Maps are drawn according to the following logic\n",
    "\n",
    "```\n",
    "if desc and map_name are None, \n",
    "   then a default random map is drawn with 8\n",
    "        using frozen_lake.generate_random_map(size=8, p=0.8)\n",
    "elif desc is None and a map_name is given\n",
    "   then a map_name is either '4x4' or '8x8'\n",
    "        and is drawn from the dict MAPS in frozen_lake.py\n",
    "elif desc is given\n",
    "   then it must be in the form of a list with \n",
    "```\n",
    "\n",
    "Default action probabilities are 1/3 chosen action, 1/3 each for right angles to chosen action, and 0 for reverse of chosen action. This is set with `is_slippery=True`. If `is_slippery=False`, then P=1 for chosen action and 0 for all other actions.\n",
    "\n",
    "|ACTION|Value|Symbol|\n",
    "|------|-----|------|\n",
    "|LEFT  | 0   | ←    |\n",
    "|DOWN  | 1   | ↓    |\n",
    "|RIGHT | 2   | →    |\n",
    "|UP    | 3   | ↑    |"
   ]
  },
  {
   "cell_type": "markdown",
   "metadata": {},
   "source": [
    "# Sources"
   ]
  },
  {
   "cell_type": "markdown",
   "metadata": {},
   "source": [
    "- Code: <https://github.com/Twice22/HandsOnRL>\n",
    "- Tutorial: <https://twice22.github.io/>"
   ]
  },
  {
   "cell_type": "markdown",
   "metadata": {},
   "source": [
    "# Save Results to DataFrame"
   ]
  },
  {
   "cell_type": "code",
   "execution_count": 13,
   "metadata": {},
   "outputs": [],
   "source": [
    "results = pd.DataFrame({'rH': [rH], \n",
    "                        'rG': [rG], \n",
    "                        'rF': [rF], \n",
    "                        'size': [size], \n",
    "                        'p': [p], \n",
    "                        'desc': [desc], \n",
    "                        'map_name': [map_name],                        \n",
    "                        'is_slippery': [is_slippery],\n",
    "                        'epsilon': [epsilon],\n",
    "                        'gamma': [gamma], \n",
    "                        'max_iter': [max_iter], \n",
    "                        'qepsilon': [qepsilon], \n",
    "                        'lr': [lr], \n",
    "                        'qgamma': [qgamma], \n",
    "                        'episodes': [episodes], \n",
    "                        'initial': [initial],\n",
    "                        'env_desc': [env_desc],\n",
    "                        'env_rs': [env_rs],\n",
    "                        'pi_time': [pi_time.average],\n",
    "                        'pi_V': [pi_V],\n",
    "                        'pi_epochs': [pi_epochs],\n",
    "                        'pi_policy': [pi_policy],\n",
    "                        'pi_policy_arrows': [pi_policy_arrows],\n",
    "                        'vi_time': [vi_time.average],\n",
    "                        'vi_V': [vi_V],\n",
    "                        'vi_epochs': [vi_epochs],\n",
    "                        'vi_policy': [vi_policy],\n",
    "                        'vi_policy_arrows': [vi_policy_arrows],\n",
    "                        'Q_time': [Q_time.average],\n",
    "                        'Q': [Q],\n",
    "                        'Q_V': [maxQ],\n",
    "                        'Q_policy': [Q_policy],\n",
    "                        'Q_policy_arrows': [Q_policy_arrows]})"
   ]
  },
  {
   "cell_type": "code",
   "execution_count": 14,
   "metadata": {},
   "outputs": [
    {
     "data": {
      "text/html": [
       "<div>\n",
       "<style scoped>\n",
       "    .dataframe tbody tr th:only-of-type {\n",
       "        vertical-align: middle;\n",
       "    }\n",
       "\n",
       "    .dataframe tbody tr th {\n",
       "        vertical-align: top;\n",
       "    }\n",
       "\n",
       "    .dataframe thead th {\n",
       "        text-align: right;\n",
       "    }\n",
       "</style>\n",
       "<table border=\"1\" class=\"dataframe\">\n",
       "  <thead>\n",
       "    <tr style=\"text-align: right;\">\n",
       "      <th></th>\n",
       "      <th>rH</th>\n",
       "      <th>rG</th>\n",
       "      <th>rF</th>\n",
       "      <th>size</th>\n",
       "      <th>p</th>\n",
       "      <th>desc</th>\n",
       "      <th>map_name</th>\n",
       "      <th>is_slippery</th>\n",
       "      <th>epsilon</th>\n",
       "      <th>gamma</th>\n",
       "      <th>max_iter</th>\n",
       "      <th>qepsilon</th>\n",
       "      <th>lr</th>\n",
       "      <th>qgamma</th>\n",
       "      <th>episodes</th>\n",
       "      <th>initial</th>\n",
       "      <th>env_desc</th>\n",
       "      <th>env_rs</th>\n",
       "      <th>pi_time</th>\n",
       "      <th>pi_V</th>\n",
       "      <th>pi_epochs</th>\n",
       "      <th>pi_policy</th>\n",
       "      <th>pi_policy_arrows</th>\n",
       "      <th>vi_time</th>\n",
       "      <th>vi_V</th>\n",
       "      <th>vi_epochs</th>\n",
       "      <th>vi_policy</th>\n",
       "      <th>vi_policy_arrows</th>\n",
       "      <th>Q_time</th>\n",
       "      <th>Q</th>\n",
       "      <th>Q_V</th>\n",
       "      <th>Q_policy</th>\n",
       "      <th>Q_policy_arrows</th>\n",
       "    </tr>\n",
       "  </thead>\n",
       "  <tbody>\n",
       "    <tr>\n",
       "      <th>0</th>\n",
       "      <td>-1</td>\n",
       "      <td>1</td>\n",
       "      <td>-0.2</td>\n",
       "      <td>8</td>\n",
       "      <td>0.8</td>\n",
       "      <td>None</td>\n",
       "      <td>8x8</td>\n",
       "      <td>True</td>\n",
       "      <td>1.000000e-08</td>\n",
       "      <td>0.8</td>\n",
       "      <td>10000</td>\n",
       "      <td>0.1</td>\n",
       "      <td>0.8</td>\n",
       "      <td>0.95</td>\n",
       "      <td>10000</td>\n",
       "      <td>0</td>\n",
       "      <td>[[S, F, F, F, F, F, F, F], [F, F, F, F, F, F, ...</td>\n",
       "      <td>[-0.2, -0.2, -0.2, -0.2, -0.2, -0.2, -0.2, -0....</td>\n",
       "      <td>0.003766</td>\n",
       "      <td>[-0.9992295366480467, -0.9986516891340815, -0....</td>\n",
       "      <td>7</td>\n",
       "      <td>[3, 2, 2, 2, 2, 2, 2, 2, 3, 3, 3, 3, 3, 3, 2, ...</td>\n",
       "      <td>[[↑, →, →, →, →, →, →, →], [↑, ↑, ↑, ↑, ↑, ↑, ...</td>\n",
       "      <td>0.019597</td>\n",
       "      <td>[-0.999229537127132, -0.9986516896132036, -0.9...</td>\n",
       "      <td>91</td>\n",
       "      <td>[3, 2, 2, 2, 2, 2, 2, 2, 3, 3, 3, 3, 3, 3, 2, ...</td>\n",
       "      <td>[[↑, →, →, →, →, →, →, →], [↑, ↑, ↑, ↑, ↑, ↑, ...</td>\n",
       "      <td>3.735126</td>\n",
       "      <td>[[-3.0798028223384275, -2.7657051548799516, -2...</td>\n",
       "      <td>[-2.7657051548799516, -2.6751444462574914, -2....</td>\n",
       "      <td>[1, 2, 1, 0, 2, 3, 1, 2, 2, 0, 2, 0, 3, 1, 3, ...</td>\n",
       "      <td>[[↓, →, ↓, ←, →, ↑, ↓, →], [→, ←, →, ←, ↑, ↓, ...</td>\n",
       "    </tr>\n",
       "  </tbody>\n",
       "</table>\n",
       "</div>"
      ],
      "text/plain": [
       "   rH  rG   rF  size    p  desc map_name  is_slippery       epsilon  gamma  \\\n",
       "0  -1   1 -0.2     8  0.8  None      8x8         True  1.000000e-08    0.8   \n",
       "\n",
       "   max_iter  qepsilon   lr  qgamma  episodes  initial  \\\n",
       "0     10000       0.1  0.8    0.95     10000        0   \n",
       "\n",
       "                                            env_desc  \\\n",
       "0  [[S, F, F, F, F, F, F, F], [F, F, F, F, F, F, ...   \n",
       "\n",
       "                                              env_rs   pi_time  \\\n",
       "0  [-0.2, -0.2, -0.2, -0.2, -0.2, -0.2, -0.2, -0....  0.003766   \n",
       "\n",
       "                                                pi_V  pi_epochs  \\\n",
       "0  [-0.9992295366480467, -0.9986516891340815, -0....          7   \n",
       "\n",
       "                                           pi_policy  \\\n",
       "0  [3, 2, 2, 2, 2, 2, 2, 2, 3, 3, 3, 3, 3, 3, 2, ...   \n",
       "\n",
       "                                    pi_policy_arrows   vi_time  \\\n",
       "0  [[↑, →, →, →, →, →, →, →], [↑, ↑, ↑, ↑, ↑, ↑, ...  0.019597   \n",
       "\n",
       "                                                vi_V  vi_epochs  \\\n",
       "0  [-0.999229537127132, -0.9986516896132036, -0.9...         91   \n",
       "\n",
       "                                           vi_policy  \\\n",
       "0  [3, 2, 2, 2, 2, 2, 2, 2, 3, 3, 3, 3, 3, 3, 2, ...   \n",
       "\n",
       "                                    vi_policy_arrows    Q_time  \\\n",
       "0  [[↑, →, →, →, →, →, →, →], [↑, ↑, ↑, ↑, ↑, ↑, ...  3.735126   \n",
       "\n",
       "                                                   Q  \\\n",
       "0  [[-3.0798028223384275, -2.7657051548799516, -2...   \n",
       "\n",
       "                                                 Q_V  \\\n",
       "0  [-2.7657051548799516, -2.6751444462574914, -2....   \n",
       "\n",
       "                                            Q_policy  \\\n",
       "0  [1, 2, 1, 0, 2, 3, 1, 2, 2, 0, 2, 0, 3, 1, 3, ...   \n",
       "\n",
       "                                     Q_policy_arrows  \n",
       "0  [[↓, →, ↓, ←, →, ↑, ↓, →], [→, ←, →, ←, ↑, ↓, ...  "
      ]
     },
     "metadata": {},
     "output_type": "display_data"
    }
   ],
   "source": [
    "display(results)"
   ]
  },
  {
   "cell_type": "markdown",
   "metadata": {},
   "source": [
    "# Save DataFrame to Disk"
   ]
  },
  {
   "cell_type": "code",
   "execution_count": 16,
   "metadata": {},
   "outputs": [],
   "source": [
    "warnings.simplefilter(action='ignore', category=pd.errors.PerformanceWarning)\n",
    "try:\n",
    "    dataset = pd.read_hdf('data.h5', key='dataset', mode='a')\n",
    "except FileNotFoundError:\n",
    "    results.to_hdf('data.h5', key='dataset', mode='a')\n",
    "else:\n",
    "    dataset.append(\n",
    "        other=results, \n",
    "        ignore_index=True\n",
    "        ).to_hdf(\n",
    "        path_or_buf='data.h5', \n",
    "        key='dataset', \n",
    "        mode='a')"
   ]
  },
  {
   "cell_type": "code",
   "execution_count": 17,
   "metadata": {},
   "outputs": [
    {
     "data": {
      "text/html": [
       "<div>\n",
       "<style scoped>\n",
       "    .dataframe tbody tr th:only-of-type {\n",
       "        vertical-align: middle;\n",
       "    }\n",
       "\n",
       "    .dataframe tbody tr th {\n",
       "        vertical-align: top;\n",
       "    }\n",
       "\n",
       "    .dataframe thead th {\n",
       "        text-align: right;\n",
       "    }\n",
       "</style>\n",
       "<table border=\"1\" class=\"dataframe\">\n",
       "  <thead>\n",
       "    <tr style=\"text-align: right;\">\n",
       "      <th></th>\n",
       "      <th>rH</th>\n",
       "      <th>rG</th>\n",
       "      <th>rF</th>\n",
       "      <th>size</th>\n",
       "      <th>p</th>\n",
       "      <th>desc</th>\n",
       "      <th>map_name</th>\n",
       "      <th>is_slippery</th>\n",
       "      <th>epsilon</th>\n",
       "      <th>gamma</th>\n",
       "      <th>max_iter</th>\n",
       "      <th>qepsilon</th>\n",
       "      <th>lr</th>\n",
       "      <th>qgamma</th>\n",
       "      <th>episodes</th>\n",
       "      <th>initial</th>\n",
       "      <th>env_desc</th>\n",
       "      <th>env_rs</th>\n",
       "      <th>pi_time</th>\n",
       "      <th>pi_V</th>\n",
       "      <th>pi_epochs</th>\n",
       "      <th>pi_policy</th>\n",
       "      <th>pi_policy_arrows</th>\n",
       "      <th>vi_time</th>\n",
       "      <th>vi_V</th>\n",
       "      <th>vi_epochs</th>\n",
       "      <th>vi_policy</th>\n",
       "      <th>vi_policy_arrows</th>\n",
       "      <th>Q_time</th>\n",
       "      <th>Q</th>\n",
       "      <th>Q_V</th>\n",
       "      <th>Q_policy</th>\n",
       "      <th>Q_policy_arrows</th>\n",
       "    </tr>\n",
       "  </thead>\n",
       "  <tbody>\n",
       "    <tr>\n",
       "      <th>0</th>\n",
       "      <td>-1</td>\n",
       "      <td>1</td>\n",
       "      <td>-0.2</td>\n",
       "      <td>8</td>\n",
       "      <td>0.8</td>\n",
       "      <td>None</td>\n",
       "      <td>8x8</td>\n",
       "      <td>True</td>\n",
       "      <td>1.000000e-08</td>\n",
       "      <td>0.8</td>\n",
       "      <td>10000</td>\n",
       "      <td>0.1</td>\n",
       "      <td>0.8</td>\n",
       "      <td>0.95</td>\n",
       "      <td>10000</td>\n",
       "      <td>0</td>\n",
       "      <td>[[S, F, F, F, F, F, F, F], [F, F, F, F, F, F, ...</td>\n",
       "      <td>[-0.2, -0.2, -0.2, -0.2, -0.2, -0.2, -0.2, -0....</td>\n",
       "      <td>0.003766</td>\n",
       "      <td>[-0.9992295366480467, -0.9986516891340815, -0....</td>\n",
       "      <td>7</td>\n",
       "      <td>[3, 2, 2, 2, 2, 2, 2, 2, 3, 3, 3, 3, 3, 3, 2, ...</td>\n",
       "      <td>[[↑, →, →, →, →, →, →, →], [↑, ↑, ↑, ↑, ↑, ↑, ...</td>\n",
       "      <td>0.019597</td>\n",
       "      <td>[-0.999229537127132, -0.9986516896132036, -0.9...</td>\n",
       "      <td>91</td>\n",
       "      <td>[3, 2, 2, 2, 2, 2, 2, 2, 3, 3, 3, 3, 3, 3, 2, ...</td>\n",
       "      <td>[[↑, →, →, →, →, →, →, →], [↑, ↑, ↑, ↑, ↑, ↑, ...</td>\n",
       "      <td>3.735126</td>\n",
       "      <td>[[-3.0798028223384275, -2.7657051548799516, -2...</td>\n",
       "      <td>[-2.7657051548799516, -2.6751444462574914, -2....</td>\n",
       "      <td>[1, 2, 1, 0, 2, 3, 1, 2, 2, 0, 2, 0, 3, 1, 3, ...</td>\n",
       "      <td>[[↓, →, ↓, ←, →, ↑, ↓, →], [→, ←, →, ←, ↑, ↓, ...</td>\n",
       "    </tr>\n",
       "  </tbody>\n",
       "</table>\n",
       "</div>"
      ],
      "text/plain": [
       "   rH  rG   rF  size    p  desc map_name  is_slippery       epsilon  gamma  \\\n",
       "0  -1   1 -0.2     8  0.8  None      8x8         True  1.000000e-08    0.8   \n",
       "\n",
       "   max_iter  qepsilon   lr  qgamma  episodes  initial  \\\n",
       "0     10000       0.1  0.8    0.95     10000        0   \n",
       "\n",
       "                                            env_desc  \\\n",
       "0  [[S, F, F, F, F, F, F, F], [F, F, F, F, F, F, ...   \n",
       "\n",
       "                                              env_rs   pi_time  \\\n",
       "0  [-0.2, -0.2, -0.2, -0.2, -0.2, -0.2, -0.2, -0....  0.003766   \n",
       "\n",
       "                                                pi_V  pi_epochs  \\\n",
       "0  [-0.9992295366480467, -0.9986516891340815, -0....          7   \n",
       "\n",
       "                                           pi_policy  \\\n",
       "0  [3, 2, 2, 2, 2, 2, 2, 2, 3, 3, 3, 3, 3, 3, 2, ...   \n",
       "\n",
       "                                    pi_policy_arrows   vi_time  \\\n",
       "0  [[↑, →, →, →, →, →, →, →], [↑, ↑, ↑, ↑, ↑, ↑, ...  0.019597   \n",
       "\n",
       "                                                vi_V  vi_epochs  \\\n",
       "0  [-0.999229537127132, -0.9986516896132036, -0.9...         91   \n",
       "\n",
       "                                           vi_policy  \\\n",
       "0  [3, 2, 2, 2, 2, 2, 2, 2, 3, 3, 3, 3, 3, 3, 2, ...   \n",
       "\n",
       "                                    vi_policy_arrows    Q_time  \\\n",
       "0  [[↑, →, →, →, →, →, →, →], [↑, ↑, ↑, ↑, ↑, ↑, ...  3.735126   \n",
       "\n",
       "                                                   Q  \\\n",
       "0  [[-3.0798028223384275, -2.7657051548799516, -2...   \n",
       "\n",
       "                                                 Q_V  \\\n",
       "0  [-2.7657051548799516, -2.6751444462574914, -2....   \n",
       "\n",
       "                                            Q_policy  \\\n",
       "0  [1, 2, 1, 0, 2, 3, 1, 2, 2, 0, 2, 0, 3, 1, 3, ...   \n",
       "\n",
       "                                     Q_policy_arrows  \n",
       "0  [[↓, →, ↓, ←, →, ↑, ↓, →], [→, ←, →, ←, ↑, ↓, ...  "
      ]
     },
     "execution_count": 17,
     "metadata": {},
     "output_type": "execute_result"
    }
   ],
   "source": [
    "pd.read_hdf('data.h5', key='dataset', mode='a')"
   ]
  },
  {
   "cell_type": "code",
   "execution_count": null,
   "metadata": {},
   "outputs": [],
   "source": []
  }
 ],
 "metadata": {
  "jupytext": {
   "formats": "ipynb,py"
  },
  "kernelspec": {
   "display_name": "Python 3",
   "language": "python",
   "name": "python3"
  },
  "language_info": {
   "codemirror_mode": {
    "name": "ipython",
    "version": 3
   },
   "file_extension": ".py",
   "mimetype": "text/x-python",
   "name": "python",
   "nbconvert_exporter": "python",
   "pygments_lexer": "ipython3",
   "version": "3.6.8"
  }
 },
 "nbformat": 4,
 "nbformat_minor": 2
}
